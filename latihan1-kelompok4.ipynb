{
  "nbformat": 4,
  "nbformat_minor": 0,
  "metadata": {
    "colab": {
      "provenance": [],
      "collapsed_sections": [],
      "include_colab_link": true
    },
    "kernelspec": {
      "name": "python3",
      "display_name": "Python 3"
    },
    "language_info": {
      "name": "python"
    }
  },
  "cells": [
    {
      "cell_type": "markdown",
      "metadata": {
        "id": "view-in-github",
        "colab_type": "text"
      },
      "source": [
        "<a href=\"https://colab.research.google.com/github/nsysafira/latihan1/blob/main/latihan1-kelompok4.ipynb\" target=\"_parent\"><img src=\"https://colab.research.google.com/assets/colab-badge.svg\" alt=\"Open In Colab\"/></a>"
      ]
    },
    {
      "cell_type": "code",
      "execution_count": null,
      "metadata": {
        "colab": {
          "base_uri": "https://localhost:8080/",
          "height": 36
        },
        "id": "7wvZPK4Nkvtr",
        "outputId": "cb0c2a26-be42-4f3f-9814-9da1906b3cee"
      },
      "outputs": [
        {
          "output_type": "execute_result",
          "data": {
            "text/plain": [
              "'Done'"
            ],
            "application/vnd.google.colaboratory.intrinsic+json": {
              "type": "string"
            }
          },
          "metadata": {},
          "execution_count": 2
        }
      ],
      "source": [
        "# Importing Modules untuk Notebook ini\n",
        "import warnings; warnings.simplefilter('ignore')\n",
        "import matplotlib.pyplot as plt, seaborn as sns, numpy as np\n",
        "sns.set(style=\"ticks\", color_codes=True)\n",
        "\n",
        "\"Done\""
      ]
    },
    {
      "cell_type": "markdown",
      "source": [
        "#SVD"
      ],
      "metadata": {
        "id": "ebiKZQsvsq7w"
      }
    },
    {
      "cell_type": "code",
      "source": [
        "# Singular-value decomposition\n",
        "from scipy.linalg import svd\n",
        "# define a matrix\n",
        "A = np.array([[1, 2], [3, 4], [5, 6]])\n",
        "print(A)\n",
        "# SVD\n",
        "U, s, VT = svd(A)\n",
        "print(U)\n",
        "print(s)\n",
        "print(VT)"
      ],
      "metadata": {
        "colab": {
          "base_uri": "https://localhost:8080/"
        },
        "id": "V1LXBtsXnHUG",
        "outputId": "f1b40fe0-4281-4037-cff8-046d2bc75c45"
      },
      "execution_count": null,
      "outputs": [
        {
          "output_type": "stream",
          "name": "stdout",
          "text": [
            "[[1 2]\n",
            " [3 4]\n",
            " [5 6]]\n",
            "[[-0.2298477   0.88346102  0.40824829]\n",
            " [-0.52474482  0.24078249 -0.81649658]\n",
            " [-0.81964194 -0.40189603  0.40824829]]\n",
            "[9.52551809 0.51430058]\n",
            "[[-0.61962948 -0.78489445]\n",
            " [-0.78489445  0.61962948]]\n"
          ]
        }
      ]
    },
    {
      "cell_type": "code",
      "source": [
        "# Reconstruct SVD\n",
        "from numpy import dot\n",
        "\n",
        "# define a matrix\n",
        "A = np.array([[1, 2], [3, 4], [5, 6]])\n",
        "print(A)\n",
        "# Singular-value decomposition\n",
        "U, s, VT = svd(A)\n",
        "# create m x n Sigma matrix\n",
        "Sigma = np.zeros((A.shape[0], A.shape[1])) # Sigma Tidak SQUARE\n",
        "# populate Sigma with n x n diagonal matrix\n",
        "Sigma[:A.shape[1], :A.shape[1]] = np.diag(s)\n",
        "# reconstruct matrix\n",
        "B = U.dot(Sigma.dot(VT))\n",
        "print(B)"
      ],
      "metadata": {
        "colab": {
          "base_uri": "https://localhost:8080/"
        },
        "id": "68FLRxiknOfW",
        "outputId": "6ea7c063-036a-4de9-9fa9-ff62f97389fb"
      },
      "execution_count": null,
      "outputs": [
        {
          "output_type": "stream",
          "name": "stdout",
          "text": [
            "[[1 2]\n",
            " [3 4]\n",
            " [5 6]]\n",
            "[[1. 2.]\n",
            " [3. 4.]\n",
            " [5. 6.]]\n"
          ]
        }
      ]
    },
    {
      "cell_type": "code",
      "source": [
        "Sigma"
      ],
      "metadata": {
        "colab": {
          "base_uri": "https://localhost:8080/"
        },
        "id": "PRqLU0VjnUE0",
        "outputId": "ce5391fc-6163-4b5e-c97b-8d40f2435a99"
      },
      "execution_count": null,
      "outputs": [
        {
          "output_type": "execute_result",
          "data": {
            "text/plain": [
              "array([[9.52551809, 0.        ],\n",
              "       [0.        , 0.51430058],\n",
              "       [0.        , 0.        ]])"
            ]
          },
          "metadata": {},
          "execution_count": 5
        }
      ]
    },
    {
      "cell_type": "markdown",
      "source": [
        "#SVD untuk Reduksi Dimensi"
      ],
      "metadata": {
        "id": "P0wxYu8Esw70"
      }
    },
    {
      "cell_type": "code",
      "source": [
        "A = np.array([\n",
        "    [1,2,3,4,5,6,7,8,9,10],\n",
        "    [11,12,13,14,15,16,17,18,19,20],\n",
        "    [21,22,23,24,25,26,27,28,29,30]])\n",
        "print(A)\n",
        "# Singular-value decomposition\n",
        "U, s, VT = svd(A)\n",
        "# create m x n Sigma matrix\n",
        "Sigma = np.zeros((A.shape[0], A.shape[1]))\n",
        "# populate Sigma with n x n diagonal matrix\n",
        "Sigma[:A.shape[0], :A.shape[0]] = np.diag(s)\n",
        "# select\n",
        "n_elements = 2\n",
        "Sigma = Sigma[:, :n_elements]\n",
        "VT = VT[:n_elements, :]\n",
        "# reconstruct\n",
        "B = U.dot(Sigma.dot(VT))\n",
        "print(B)\n",
        "# transform\n",
        "T = U.dot(Sigma)\n",
        "print(T)\n",
        "T = A.dot(VT.T)\n",
        "print(T)"
      ],
      "metadata": {
        "colab": {
          "base_uri": "https://localhost:8080/"
        },
        "id": "MqCGZUbZs0Fw",
        "outputId": "62e7fe14-4492-4ef2-f7c3-7036a1a659e7"
      },
      "execution_count": null,
      "outputs": [
        {
          "output_type": "stream",
          "name": "stdout",
          "text": [
            "[[ 1  2  3  4  5  6  7  8  9 10]\n",
            " [11 12 13 14 15 16 17 18 19 20]\n",
            " [21 22 23 24 25 26 27 28 29 30]]\n",
            "[[ 1.  2.  3.  4.  5.  6.  7.  8.  9. 10.]\n",
            " [11. 12. 13. 14. 15. 16. 17. 18. 19. 20.]\n",
            " [21. 22. 23. 24. 25. 26. 27. 28. 29. 30.]]\n",
            "[[-18.52157747   6.47697214]\n",
            " [-49.81310011   1.91182038]\n",
            " [-81.10462276  -2.65333138]]\n",
            "[[-18.52157747   6.47697214]\n",
            " [-49.81310011   1.91182038]\n",
            " [-81.10462276  -2.65333138]]\n"
          ]
        }
      ]
    },
    {
      "cell_type": "code",
      "source": [
        "from sklearn.decomposition import TruncatedSVD\n",
        "# define array\n",
        "from numpy import array\n",
        "A = array([\n",
        "    [1,2,3,4,5,6,7,8,9,10],\n",
        "    [11,12,13,14,15,16,17,18,19,20],\n",
        "    [21,22,23,24,25,26,27,28,29,30]])\n",
        "print(A)\n",
        "print(\"Ukuran A = \", A.shape)\n",
        "# svd\n",
        "svd = TruncatedSVD(n_components=2)\n",
        "svd.fit(A)\n",
        "result = svd.transform(A)\n",
        "print(result)\n",
        "print(\"Ukuran Truncated A = \", result.shape)"
      ],
      "metadata": {
        "colab": {
          "base_uri": "https://localhost:8080/"
        },
        "id": "WhKnJ5aqs5RQ",
        "outputId": "f0a6b0e8-a261-4599-e990-88afea1f0dd3"
      },
      "execution_count": null,
      "outputs": [
        {
          "output_type": "stream",
          "name": "stdout",
          "text": [
            "[[ 1  2  3  4  5  6  7  8  9 10]\n",
            " [11 12 13 14 15 16 17 18 19 20]\n",
            " [21 22 23 24 25 26 27 28 29 30]]\n",
            "Ukuran A =  (3, 10)\n",
            "[[18.52157747  6.47697214]\n",
            " [49.81310011  1.91182038]\n",
            " [81.10462276 -2.65333138]]\n",
            "Ukuran Truncated A =  (3, 2)\n"
          ]
        }
      ]
    },
    {
      "cell_type": "markdown",
      "source": [
        "#**Topic Modelling**\n",
        "sumber: Matrix Factorization (C) Taufik Sutanto - 2021 tau-data Indonesia ~ \n",
        "https://tau-data.id/rng/\n",
        "\n",
        "\n"
      ],
      "metadata": {
        "id": "0Hcj0UC9pSj-"
      }
    },
    {
      "cell_type": "code",
      "source": [
        "# Data sederhana yang akan dilakukan adalah 9 judul buku ini\n",
        "d1 = \"The Neatest Little Guide to Stock Market Investing\"\n",
        "d2 = \"Investing For Dummies, 4th Edition\"\n",
        "d3 = \"The Little Book of Common Sense Investing: The Only Way to Guarantee Your Fair Share of Stock Market Returns\"\n",
        "d4 = \"The Little Book of Value Investing\"\n",
        "d5 = \"Value Investing: From Graham to Buffett and Beyond\"\n",
        "d6 = \"Rich Dad's Guide to Investing: What the Rich Invest in, That the Poor and the Middle Class Do Not!\"\n",
        "d7 = \"Investing in Real Estate, 5th Edition\"\n",
        "d8 = \"Stock Investing For Dummies\"\n",
        "d9 = \"Rich Dad's Advisors: The ABC’s of Real Estate Investing: The Secrets of Finding Hidden Profits Most Investors Miss\"\n",
        "# Data adalah kumpulan dokumen sehingga\n",
        "D = [d1, d2, d3, d4, d5, d6, d7, d8, d9]"
      ],
      "metadata": {
        "id": "qej0M6KInbpn"
      },
      "execution_count": null,
      "outputs": []
    },
    {
      "cell_type": "code",
      "source": [
        "from sklearn.feature_extraction.text import CountVectorizer\n",
        "\n",
        "vsm = CountVectorizer(binary = False, lowercase=True, stop_words='english')\n",
        "A = vsm.fit_transform(D)\n",
        "\n",
        "A.shape"
      ],
      "metadata": {
        "colab": {
          "base_uri": "https://localhost:8080/"
        },
        "id": "ao3Nm22gpBVw",
        "outputId": "ee9e1bb1-2150-4ce0-d51e-5b9a2d199fb8"
      },
      "execution_count": null,
      "outputs": [
        {
          "output_type": "execute_result",
          "data": {
            "text/plain": [
              "(9, 37)"
            ]
          },
          "metadata": {},
          "execution_count": 7
        }
      ]
    },
    {
      "cell_type": "code",
      "source": [
        "type(A)"
      ],
      "metadata": {
        "colab": {
          "base_uri": "https://localhost:8080/"
        },
        "id": "xYwzBMaVpC3C",
        "outputId": "6c25d704-122a-4f54-db90-37d6f50d0685"
      },
      "execution_count": null,
      "outputs": [
        {
          "output_type": "execute_result",
          "data": {
            "text/plain": [
              "scipy.sparse.csr.csr_matrix"
            ]
          },
          "metadata": {},
          "execution_count": 8
        }
      ]
    },
    {
      "cell_type": "code",
      "source": [
        "A.toarray()"
      ],
      "metadata": {
        "colab": {
          "base_uri": "https://localhost:8080/"
        },
        "id": "2CR32NIGpHNa",
        "outputId": "aae966bd-121d-431a-c9a5-7d09ccf8f28b"
      },
      "execution_count": null,
      "outputs": [
        {
          "output_type": "execute_result",
          "data": {
            "text/plain": [
              "array([[0, 0, 0, 0, 0, 0, 0, 0, 0, 0, 0, 0, 0, 0, 0, 0, 1, 0, 0, 1, 0, 1,\n",
              "        1, 0, 0, 1, 0, 0, 0, 0, 0, 0, 0, 0, 1, 0, 0],\n",
              "       [1, 0, 0, 0, 0, 0, 0, 0, 0, 1, 1, 0, 0, 0, 0, 0, 0, 0, 0, 1, 0, 0,\n",
              "        0, 0, 0, 0, 0, 0, 0, 0, 0, 0, 0, 0, 0, 0, 0],\n",
              "       [0, 0, 0, 0, 1, 0, 0, 1, 0, 0, 0, 0, 1, 0, 0, 1, 0, 0, 0, 1, 0, 1,\n",
              "        1, 0, 0, 0, 0, 0, 0, 1, 0, 0, 1, 1, 1, 0, 1],\n",
              "       [0, 0, 0, 0, 1, 0, 0, 0, 0, 0, 0, 0, 0, 0, 0, 0, 0, 0, 0, 1, 0, 1,\n",
              "        0, 0, 0, 0, 0, 0, 0, 0, 0, 0, 0, 0, 0, 1, 0],\n",
              "       [0, 0, 0, 0, 0, 1, 0, 0, 0, 0, 0, 0, 0, 0, 1, 0, 0, 0, 0, 1, 0, 0,\n",
              "        0, 0, 0, 0, 0, 0, 0, 0, 0, 0, 0, 0, 0, 1, 0],\n",
              "       [0, 0, 0, 0, 0, 0, 1, 0, 1, 0, 0, 0, 0, 0, 0, 0, 1, 0, 1, 1, 0, 0,\n",
              "        0, 1, 0, 0, 1, 0, 0, 0, 2, 0, 0, 0, 0, 0, 0],\n",
              "       [0, 1, 0, 0, 0, 0, 0, 0, 0, 0, 1, 1, 0, 0, 0, 0, 0, 0, 0, 1, 0, 0,\n",
              "        0, 0, 0, 0, 0, 0, 1, 0, 0, 0, 0, 0, 0, 0, 0],\n",
              "       [0, 0, 0, 0, 0, 0, 0, 0, 0, 1, 0, 0, 0, 0, 0, 0, 0, 0, 0, 1, 0, 0,\n",
              "        0, 0, 0, 0, 0, 0, 0, 0, 0, 0, 0, 0, 1, 0, 0],\n",
              "       [0, 0, 1, 1, 0, 0, 0, 0, 1, 0, 0, 1, 0, 1, 0, 0, 0, 1, 0, 1, 1, 0,\n",
              "        0, 0, 1, 0, 0, 1, 1, 0, 1, 1, 0, 0, 0, 0, 0]])"
            ]
          },
          "metadata": {},
          "execution_count": 10
        }
      ]
    },
    {
      "cell_type": "code",
      "source": [
        "print(str(vsm.vocabulary_)[:93])"
      ],
      "metadata": {
        "colab": {
          "base_uri": "https://localhost:8080/"
        },
        "id": "3Wixt7pjpI6U",
        "outputId": "61ec7a3e-1755-4f94-c971-ab302a828456"
      },
      "execution_count": null,
      "outputs": [
        {
          "output_type": "stream",
          "name": "stdout",
          "text": [
            "{'neatest': 25, 'little': 21, 'guide': 16, 'stock': 34, 'market': 22, 'investing': 19, 'dummi\n"
          ]
        }
      ]
    },
    {
      "cell_type": "code",
      "source": [
        "# Solve dengan Numpy\n",
        "U, s, V = np.linalg.svd(A.toarray())\n",
        "print(\"ukuran-ukuran matriks = \",U.shape, s.shape, V.shape)\n",
        "print(s)"
      ],
      "metadata": {
        "colab": {
          "base_uri": "https://localhost:8080/"
        },
        "id": "NEfGkNY0pOJ_",
        "outputId": "9802f7d1-597f-46d4-8546-eced2809999f"
      },
      "execution_count": null,
      "outputs": [
        {
          "output_type": "stream",
          "name": "stdout",
          "text": [
            "ukuran-ukuran matriks =  (9, 9) (9,) (37, 37)\n",
            "[4.54521696 3.66729152 2.87340127 2.52846421 2.0056327  1.90952942\n",
            " 1.65889315 1.33047338 1.02540653]\n"
          ]
        }
      ]
    },
    {
      "cell_type": "code",
      "source": [
        "# Mari kita plot hasil diatas\n",
        "\n",
        "x_kata = V[0,:] # Baris pertama matrix V = sumbu x kata\n",
        "y_kata = V[1,:] # Baris kedua matrix V = sumbu y kata\n",
        "\n",
        "# label dari setiap barisnya = kata-kata\n",
        "# kita akan gunakan perintah yang sama dengan di segmen sebelum ini\n",
        "print(vsm.vocabulary_)"
      ],
      "metadata": {
        "colab": {
          "base_uri": "https://localhost:8080/"
        },
        "id": "hKw1A4Y6pQ1u",
        "outputId": "f84d022b-c583-4824-910e-df3f556b3c12"
      },
      "execution_count": null,
      "outputs": [
        {
          "output_type": "stream",
          "name": "stdout",
          "text": [
            "{'neatest': 25, 'little': 21, 'guide': 16, 'stock': 34, 'market': 22, 'investing': 19, 'dummies': 9, '4th': 0, 'edition': 10, 'book': 4, 'common': 7, 'sense': 32, 'way': 36, 'guarantee': 15, 'fair': 12, 'share': 33, 'returns': 29, 'value': 35, 'graham': 14, 'buffett': 5, 'rich': 30, 'dad': 8, 'invest': 18, 'poor': 26, 'middle': 23, 'class': 6, 'real': 28, 'estate': 11, '5th': 1, 'advisors': 3, 'abc': 2, 'secrets': 31, 'finding': 13, 'hidden': 17, 'profits': 27, 'investors': 20, 'miss': 24}\n"
          ]
        }
      ]
    },
    {
      "cell_type": "code",
      "source": [
        "idx_kata = dict(map(reversed, vsm.vocabulary_.items()))\n",
        "Label = [idx_kata[i] for i in range(A.shape[0])]\n",
        "print(Label)"
      ],
      "metadata": {
        "colab": {
          "base_uri": "https://localhost:8080/"
        },
        "id": "r22I2wF_piwt",
        "outputId": "ffb1205c-6eba-4f2b-8552-4b4139aed713"
      },
      "execution_count": null,
      "outputs": [
        {
          "output_type": "stream",
          "name": "stdout",
          "text": [
            "['4th', '5th', 'abc', 'advisors', 'book', 'buffett', 'class', 'common', 'dad']\n"
          ]
        }
      ]
    },
    {
      "cell_type": "code",
      "source": [
        "# Sudah siap untuk kita plot\n",
        "import matplotlib.pyplot as plt\n",
        "fig, ax = plt.subplots()\n",
        "ax.scatter(x_kata, y_kata, c=['b']*len(x_kata))\n",
        "for i, L in enumerate(Label):\n",
        "    ax.annotate(L, (x_kata[i],y_kata[i]))"
      ],
      "metadata": {
        "colab": {
          "base_uri": "https://localhost:8080/",
          "height": 268
        },
        "id": "oLxadS_opj-_",
        "outputId": "18343f71-a946-478e-dcf5-1b986111e523"
      },
      "execution_count": null,
      "outputs": [
        {
          "output_type": "display_data",
          "data": {
            "text/plain": [
              "<Figure size 432x288 with 1 Axes>"
            ],
            "image/png": "[encoded data removed]"
          },
          "metadata": {}
        }
      ]
    },
    {
      "cell_type": "code",
      "source": [
        "# Mari kita gabungkan plot Kata dan Dokumen\n",
        "x_judul = U[:,0] # Kolom pertama matrix U = sumbu x judul\n",
        "y_judul = U[:,1] # Kolom kedua matrix U = sumbu y judul\n",
        "\n",
        "Label_judul = ['d1','d2','d3','d4','d5','d6','d7','d8','d9']\n",
        "\n",
        "# Saatnya kita plot\n",
        "# Mulai dari \"Words\" terlebih dahulu dengan warna biru \"b\"\n",
        "fig, ax = plt.subplots()\n",
        "ax.scatter(x_kata, y_kata, c=['b']*len(x_kata))\n",
        "for i, L in enumerate(Label):\n",
        "    ax.annotate(L, (x_kata[i],y_kata[i]))\n",
        "    \n",
        "# Lalu judul (dokumen) dengan warna Merah \"r\"\n",
        "ax.scatter(x_judul, y_judul, c=['r']*len(x_judul))\n",
        "for i, L in enumerate(Label_judul):\n",
        "    ax.annotate(L, (x_judul[i],y_judul[i]))\n",
        "# Analisa Plotnya .... misal perhatikan kata \"dummies\""
      ],
      "metadata": {
        "colab": {
          "base_uri": "https://localhost:8080/",
          "height": 268
        },
        "id": "6l79qWgup1lN",
        "outputId": "38ccc803-7206-445d-cff3-b7033b830fda"
      },
      "execution_count": null,
      "outputs": [
        {
          "output_type": "display_data",
          "data": {
            "text/plain": [
              "<Figure size 432x288 with 1 Axes>"
            ],
            "image/png": "[encoded data removed]"
          },
          "metadata": {}
        }
      ]
    },
    {
      "cell_type": "markdown",
      "source": [
        "#**Case Study**\n",
        "*The 20 Newsgroups data set is a collection of approximately 20,000 newsgroup documents, partitioned (nearly) evenly across 20 different newsgroups.*\n",
        "\n",
        "Gunakan 20 Newsgroup data berikut ([Sumber Data](https://archive.ics.uci.edu/ml/datasets/Twenty+Newsgroups)). Bagaimana kita tahu topik apa yang dibicarakan dalam dokumen 20 Newsgroups tersebut? Mari lakukan implementasi *topic modelling* pada data tersebut."
      ],
      "metadata": {
        "id": "QDvSVdJKxyxd"
      }
    },
    {
      "cell_type": "code",
      "source": [
        "# Load data\n",
        "from sklearn.datasets import fetch_20newsgroups\n",
        "\n",
        "dataset = fetch_20newsgroups(shuffle=True, random_state=1, remove=('headers', 'footers', 'quotes'))\n",
        "documents = dataset.data"
      ],
      "metadata": {
        "id": "FAokr7HNxepY"
      },
      "execution_count": null,
      "outputs": []
    }
  ]
}